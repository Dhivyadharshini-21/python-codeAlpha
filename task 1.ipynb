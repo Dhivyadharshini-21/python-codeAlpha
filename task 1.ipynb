{
  "nbformat": 4,
  "nbformat_minor": 0,
  "metadata": {
    "colab": {
      "provenance": []
    },
    "kernelspec": {
      "name": "python3",
      "display_name": "Python 3"
    },
    "language_info": {
      "name": "python"
    }
  },
  "cells": [
    {
      "cell_type": "code",
      "execution_count": 1,
      "metadata": {
        "colab": {
          "base_uri": "https://localhost:8080/"
        },
        "id": "1QsUazgf_HD1",
        "outputId": "998d58be-4f62-4ac7-e658-5a32061dcdc5"
      },
      "outputs": [
        {
          "output_type": "stream",
          "name": "stdout",
          "text": [
            "Welcome to Hangman!\n",
            "Guess the word, one letter at a time.\n",
            "_ _ _ _ _ _ _ \n",
            "\n",
            "Enter a letter: b\n",
            "Wrong guess! You have 5 tries left.\n",
            "\n",
            "Word:  _ _ _ _ _ _ _ \n",
            "\n",
            "Enter a letter: a\n",
            "Good guess!\n",
            "\n",
            "Word:  _ a _ _ _ a _ \n",
            "\n",
            "Enter a letter: b\n",
            "You already guessed that letter.\n",
            "\n",
            "Enter a letter: n\n",
            "Good guess!\n",
            "\n",
            "Word:  _ a n _ _ a n \n",
            "\n",
            "Enter a letter: d\n",
            "Wrong guess! You have 4 tries left.\n",
            "\n",
            "Word:  _ a n _ _ a n \n",
            "\n",
            "Enter a letter: h\n",
            "Good guess!\n",
            "\n",
            "Word:  h a n _ _ a n \n",
            "\n",
            "Enter a letter: g\n",
            "Good guess!\n",
            "\n",
            "Word:  h a n g _ a n \n",
            "\n",
            "Enter a letter: m\n",
            "Good guess!\n",
            "\n",
            "Word:  h a n g m a n \n",
            "\n",
            "🎉 Congratulations! You guessed the word: hangman\n"
          ]
        }
      ],
      "source": [
        "import random\n",
        "\n",
        "# --- Predefined list of words ---\n",
        "words = [\"python\", \"banana\", \"computer\", \"hangman\", \"guitar\"]\n",
        "\n",
        "# --- Choose a random word ---\n",
        "word = random.choice(words)\n",
        "word_letters = list(word)\n",
        "guessed_letters = []\n",
        "incorrect_guesses = 0\n",
        "max_incorrect = 6\n",
        "\n",
        "print(\"Welcome to Hangman!\")\n",
        "print(\"Guess the word, one letter at a time.\")\n",
        "print(\"_ \" * len(word))\n",
        "\n",
        "# --- Game loop ---\n",
        "while incorrect_guesses < max_incorrect:\n",
        "    guess = input(\"\\nEnter a letter: \").lower()\n",
        "\n",
        "    if not guess.isalpha() or len(guess) != 1:\n",
        "        print(\"Please enter a single letter.\")\n",
        "        continue\n",
        "\n",
        "    if guess in guessed_letters:\n",
        "        print(\"You already guessed that letter.\")\n",
        "        continue\n",
        "\n",
        "    guessed_letters.append(guess)\n",
        "\n",
        "    if guess in word_letters:\n",
        "        print(\"Good guess!\")\n",
        "    else:\n",
        "        incorrect_guesses += 1\n",
        "        print(f\"Wrong guess! You have {max_incorrect - incorrect_guesses} tries left.\")\n",
        "\n",
        "    # Display current word progress\n",
        "    display_word = \"\"\n",
        "    for letter in word_letters:\n",
        "        if letter in guessed_letters:\n",
        "            display_word += letter + \" \"\n",
        "        else:\n",
        "            display_word += \"_ \"\n",
        "    print(\"\\nWord: \", display_word)\n",
        "\n",
        "    # Check if player has won\n",
        "    if all(letter in guessed_letters for letter in word_letters):\n",
        "        print(\"\\n🎉 Congratulations! You guessed the word:\", word)\n",
        "        break\n",
        "else:\n",
        "    print(\"\\n💀 Out of tries! The word was:\", word)\n"
      ]
    }
  ]
}