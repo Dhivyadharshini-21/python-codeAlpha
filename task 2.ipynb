{
  "nbformat": 4,
  "nbformat_minor": 0,
  "metadata": {
    "colab": {
      "provenance": []
    },
    "kernelspec": {
      "name": "python3",
      "display_name": "Python 3"
    },
    "language_info": {
      "name": "python"
    }
  },
  "cells": [
    {
      "cell_type": "code",
      "execution_count": null,
      "metadata": {
        "colab": {
          "base_uri": "https://localhost:8080/"
        },
        "id": "h1csoMaLAT-a",
        "outputId": "58085c51-4750-45b7-d922-452ed687a0a3"
      },
      "outputs": [
        {
          "output_type": "stream",
          "name": "stdout",
          "text": [
            "Chatbot: Hello! Type 'bye' to exit.\n",
            "You: how are you\n",
            "Chatbot: I'm fine, thanks! How about you?\n"
          ]
        }
      ],
      "source": [
        "# --- Simple Rule-Based Chatbot ---\n",
        "\n",
        "def chatbot_response(user_input):\n",
        "    user_input = user_input.lower()  # Make input case-insensitive\n",
        "\n",
        "    if \"hello\" in user_input or \"hi\" in user_input:\n",
        "        return \"Hi there!\"\n",
        "    elif \"how are you\" in user_input:\n",
        "        return \"I'm fine, thanks! How about you?\"\n",
        "    elif \"bye\" in user_input or \"goodbye\" in user_input:\n",
        "        return \"Goodbye! Have a great day!\"\n",
        "    else:\n",
        "        return \"Sorry, I don't understand that.\"\n",
        "\n",
        "# --- Main loop ---\n",
        "print(\"Chatbot: Hello! Type 'bye' to exit.\")\n",
        "\n",
        "while True:\n",
        "    user_input = input(\"You: \")\n",
        "\n",
        "    if user_input.lower() in [\"bye\", \"goodbye\"]:\n",
        "        print(\"Chatbot: Goodbye! 👋\")\n",
        "        break\n",
        "\n",
        "    response = chatbot_response(user_input)\n",
        "    print(\"Chatbot:\", response)\n"
      ]
    }
  ]
}